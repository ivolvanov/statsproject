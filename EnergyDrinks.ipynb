{
  "nbformat": 4,
  "nbformat_minor": 0,
  "metadata": {
    "colab": {
      "name": "Copy of EnergyDrinks.ipynb",
      "provenance": [],
      "collapsed_sections": [],
      "toc_visible": true
    },
    "kernelspec": {
      "name": "python3",
      "display_name": "Python 3"
    }
  },
  "cells": [
    {
      "cell_type": "markdown",
      "metadata": {
        "id": "qsvH6b2gNtel"
      },
      "source": [
        "# **Research Project**\n",
        "#### _Group 6 - Razvan Simion, Ivaylo Ivanov_\n",
        "\n",
        "\t\t\n",
        "\n",
        "\n",
        "\n"
      ]
    },
    {
      "cell_type": "markdown",
      "metadata": {
        "id": "o8Rh4Dfqjwh9"
      },
      "source": [
        "#### Project assignment\n",
        "\n",
        "The goal of this assignment is to design and execute statistical study to investigate if more expensive energy drinks taste better. To achieve that, data will be gather from a sample of ICT students, some of which regularly consume energy drinks and some do not."
      ]
    },
    {
      "cell_type": "markdown",
      "metadata": {
        "id": "LMfCrQb4kroI"
      },
      "source": [
        "#### Collecting the data\n",
        "Collecting data about taste preferences is extremely subjective. To limit as many of the unknowns as possible, we have purchased as many different drinks as possible from all price ranges. The taste test was conducted with a double blind, where neither the participant nor the test conductor knew what drink was consumed.\n",
        "\n",
        "The drinks were placed in non-transparent plastic cups, each labeled with a number. The participants were asked to try each of the drinks and give them a rating on the scale from 1 to 10. Non-integer ratings were also an option. The results were then matched with the according drinks and their prices."
      ]
    },
    {
      "cell_type": "markdown",
      "metadata": {
        "id": "-yHaepmGmPHF"
      },
      "source": [
        "#### Analyzing the data\n",
        "We will be working with the gathered data in this notebook. We will analyze it, trying to spot trends and relationships. We will form a hypothesis and determine whether our findngs are statistically significant to the extent that the original hypothesis can be rejected and ours - suggested."
      ]
    },
    {
      "cell_type": "markdown",
      "metadata": {
        "id": "wZlu5as3raAc"
      },
      "source": [
        "#### Importing the Libraries"
      ]
    },
    {
      "cell_type": "code",
      "metadata": {
        "id": "vCP6__4trhxi",
        "colab": {
          "base_uri": "https://localhost:8080/"
        },
        "outputId": "5e860ef0-2997-439e-ce43-166a20d2be56"
      },
      "source": [
        "import numpy as np\r\n",
        "import pandas as pd\r\n",
        "from matplotlib import pyplot as plt\r\n",
        "import statsmodels.api as sm;"
      ],
      "execution_count": 1,
      "outputs": [
        {
          "output_type": "stream",
          "text": [
            "/usr/local/lib/python3.7/dist-packages/statsmodels/tools/_testing.py:19: FutureWarning: pandas.util.testing is deprecated. Use the functions in the public API at pandas.testing instead.\n",
            "  import pandas.util.testing as tm\n"
          ],
          "name": "stderr"
        }
      ]
    },
    {
      "cell_type": "markdown",
      "metadata": {
        "id": "O3_CTBa6r-w6"
      },
      "source": [
        "#### Getting the Data"
      ]
    },
    {
      "cell_type": "code",
      "metadata": {
        "id": "ufcutY7WsBnc"
      },
      "source": [
        "# load data\r\n",
        "file_ratings = '/content/rating_price_data.csv'\r\n",
        "rating_data = pd.read_csv(file_ratings)"
      ],
      "execution_count": 2,
      "outputs": []
    },
    {
      "cell_type": "markdown",
      "metadata": {
        "id": "2Kxz_XMrt89d"
      },
      "source": [
        "#### List the Data"
      ]
    },
    {
      "cell_type": "code",
      "metadata": {
        "colab": {
          "base_uri": "https://localhost:8080/",
          "height": 419
        },
        "id": "OR1z-KpmuAPZ",
        "outputId": "949a4287-d7cd-4792-b916-b6c0bad17662"
      },
      "source": [
        "rating_data"
      ],
      "execution_count": 3,
      "outputs": [
        {
          "output_type": "execute_result",
          "data": {
            "text/html": [
              "<div>\n",
              "<style scoped>\n",
              "    .dataframe tbody tr th:only-of-type {\n",
              "        vertical-align: middle;\n",
              "    }\n",
              "\n",
              "    .dataframe tbody tr th {\n",
              "        vertical-align: top;\n",
              "    }\n",
              "\n",
              "    .dataframe thead th {\n",
              "        text-align: right;\n",
              "    }\n",
              "</style>\n",
              "<table border=\"1\" class=\"dataframe\">\n",
              "  <thead>\n",
              "    <tr style=\"text-align: right;\">\n",
              "      <th></th>\n",
              "      <th>Price (Euro)</th>\n",
              "      <th>Rating</th>\n",
              "    </tr>\n",
              "  </thead>\n",
              "  <tbody>\n",
              "    <tr>\n",
              "      <th>0</th>\n",
              "      <td>1.40</td>\n",
              "      <td>8.0</td>\n",
              "    </tr>\n",
              "    <tr>\n",
              "      <th>1</th>\n",
              "      <td>1.40</td>\n",
              "      <td>6.0</td>\n",
              "    </tr>\n",
              "    <tr>\n",
              "      <th>2</th>\n",
              "      <td>1.40</td>\n",
              "      <td>8.0</td>\n",
              "    </tr>\n",
              "    <tr>\n",
              "      <th>3</th>\n",
              "      <td>1.40</td>\n",
              "      <td>8.0</td>\n",
              "    </tr>\n",
              "    <tr>\n",
              "      <th>4</th>\n",
              "      <td>1.40</td>\n",
              "      <td>8.0</td>\n",
              "    </tr>\n",
              "    <tr>\n",
              "      <th>...</th>\n",
              "      <td>...</td>\n",
              "      <td>...</td>\n",
              "    </tr>\n",
              "    <tr>\n",
              "      <th>136</th>\n",
              "      <td>0.39</td>\n",
              "      <td>1.5</td>\n",
              "    </tr>\n",
              "    <tr>\n",
              "      <th>137</th>\n",
              "      <td>0.39</td>\n",
              "      <td>2.0</td>\n",
              "    </tr>\n",
              "    <tr>\n",
              "      <th>138</th>\n",
              "      <td>0.39</td>\n",
              "      <td>1.0</td>\n",
              "    </tr>\n",
              "    <tr>\n",
              "      <th>139</th>\n",
              "      <td>0.39</td>\n",
              "      <td>5.0</td>\n",
              "    </tr>\n",
              "    <tr>\n",
              "      <th>140</th>\n",
              "      <td>0.39</td>\n",
              "      <td>2.0</td>\n",
              "    </tr>\n",
              "  </tbody>\n",
              "</table>\n",
              "<p>141 rows × 2 columns</p>\n",
              "</div>"
            ],
            "text/plain": [
              "     Price (Euro)  Rating\n",
              "0            1.40     8.0\n",
              "1            1.40     6.0\n",
              "2            1.40     8.0\n",
              "3            1.40     8.0\n",
              "4            1.40     8.0\n",
              "..            ...     ...\n",
              "136          0.39     1.5\n",
              "137          0.39     2.0\n",
              "138          0.39     1.0\n",
              "139          0.39     5.0\n",
              "140          0.39     2.0\n",
              "\n",
              "[141 rows x 2 columns]"
            ]
          },
          "metadata": {
            "tags": []
          },
          "execution_count": 3
        }
      ]
    },
    {
      "cell_type": "markdown",
      "metadata": {
        "id": "2wxVGD4pg2vH"
      },
      "source": [
        "###Our next goal is to visualize the data by making usage of a bar chart\r\n",
        "\r\n",
        "**In order to make a visualisation of the average rating per price from the current data we need to follow some steps:**"
      ]
    },
    {
      "cell_type": "markdown",
      "metadata": {
        "id": "fN3hyWb9h9pI"
      },
      "source": [
        "Step 1: we create a so-called GroupBy object from the data frame, using the function groupby() with the column 'Price (Euro)' to group by as argument."
      ]
    },
    {
      "cell_type": "code",
      "metadata": {
        "id": "NcdJVKT_ipC6"
      },
      "source": [
        "prices_grouped = rating_data.groupby('Price (Euro)')"
      ],
      "execution_count": 4,
      "outputs": []
    },
    {
      "cell_type": "markdown",
      "metadata": {
        "id": "zUPlLSs4jltm"
      },
      "source": [
        "Step 2: get the average mean for each of the prices from the variable 'prices_grouped' created above."
      ]
    },
    {
      "cell_type": "code",
      "metadata": {
        "colab": {
          "base_uri": "https://localhost:8080/"
        },
        "id": "5E1--CUQjvTU",
        "outputId": "f8e77dc2-32ac-459b-cd3f-d7bf8c3374f5"
      },
      "source": [
        "prices_mean = prices_grouped['Rating'].mean()\r\n",
        "prices_mean"
      ],
      "execution_count": 5,
      "outputs": [
        {
          "output_type": "execute_result",
          "data": {
            "text/plain": [
              "Price (Euro)\n",
              "0.30    6.980000\n",
              "0.39    3.656250\n",
              "0.45    4.777619\n",
              "0.50    7.100000\n",
              "0.58    6.198000\n",
              "0.66    5.540000\n",
              "0.72    4.250000\n",
              "0.75    5.269231\n",
              "0.79    5.142857\n",
              "0.95    5.212500\n",
              "0.99    4.080952\n",
              "1.40    4.738462\n",
              "Name: Rating, dtype: float64"
            ]
          },
          "metadata": {
            "tags": []
          },
          "execution_count": 5
        }
      ]
    },
    {
      "cell_type": "markdown",
      "metadata": {
        "id": "grwbYcaEkNER"
      },
      "source": [
        "Step 3: visualize the data"
      ]
    },
    {
      "cell_type": "code",
      "metadata": {
        "colab": {
          "base_uri": "https://localhost:8080/",
          "height": 292
        },
        "id": "nZGr0T-CkQAz",
        "outputId": "52edcdac-66f3-4aae-b240-98598e0b3893"
      },
      "source": [
        "prices_mean.plot(kind='bar');"
      ],
      "execution_count": 6,
      "outputs": [
        {
          "output_type": "display_data",
          "data": {
            "image/png": "[encoded data removed]",
            "text/plain": [
              "<Figure size 432x288 with 1 Axes>"
            ]
          },
          "metadata": {
            "tags": [],
            "needs_background": "light"
          }
        }
      ]
    },
    {
      "cell_type": "markdown",
      "metadata": {
        "id": "gbARdhXkJNzG"
      },
      "source": [
        "## Hypothesis testing\n",
        "\n",
        "The first step in the research is to define a quantative quesion:\n",
        "> Do more expensive energy drinks receive a higher taste rating from ICT students?\n",
        "\n",
        "Now that we have defined the question that we want to answer, we need to form a hypothesis. Since we will be looking at mean ratings for drinks at different price points, we are interested in the difference of means.\n",
        "\n",
        "It can be assumed that drink price and taste rating are not related, so more expensive drinks do not taste better. Alternatively, we could suggest that more expensive drinks do indeed taste better. To formally formulate our hypothesis:\n",
        "\n",
        "$$𝐻_0:\\mu_{expensive}=\\mu_{all}$$\n",
        "\n",
        "$$𝐻_𝑎:\\mu_{expensive}>\\mu_{all}$$ "
      ]
    },
    {
      "cell_type": "markdown",
      "metadata": {
        "id": "nVoHZkrTRMph"
      },
      "source": [
        "First, we need to define what are expensive drinks. We tested 16 different drinks, some of which had the same price. Arbitrarily, we will choose the 4 most expensive drinks to represent the expensive drinks sample. They have the prices 1.4, 0.99, 0.99 and 0.95.\n",
        "\n",
        "We will create a dataset to contain the sample of our expensive drinks. This is done using a boolean mask for drinks that cost more than 0.94."
      ]
    },
    {
      "cell_type": "code",
      "metadata": {
        "colab": {
          "base_uri": "https://localhost:8080/",
          "height": 297
        },
        "id": "biTHCgrvThNS",
        "outputId": "a8d984bb-c914-41f4-ef4c-2ac0ff8ef80f"
      },
      "source": [
        "expensive_drinks = rating_data['Price (Euro)'] > 0.94\n",
        "rating_data[expensive_drinks].describe()"
      ],
      "execution_count": 7,
      "outputs": [
        {
          "output_type": "execute_result",
          "data": {
            "text/html": [
              "<div>\n",
              "<style scoped>\n",
              "    .dataframe tbody tr th:only-of-type {\n",
              "        vertical-align: middle;\n",
              "    }\n",
              "\n",
              "    .dataframe tbody tr th {\n",
              "        vertical-align: top;\n",
              "    }\n",
              "\n",
              "    .dataframe thead th {\n",
              "        text-align: right;\n",
              "    }\n",
              "</style>\n",
              "<table border=\"1\" class=\"dataframe\">\n",
              "  <thead>\n",
              "    <tr style=\"text-align: right;\">\n",
              "      <th></th>\n",
              "      <th>Price (Euro)</th>\n",
              "      <th>Rating</th>\n",
              "    </tr>\n",
              "  </thead>\n",
              "  <tbody>\n",
              "    <tr>\n",
              "      <th>count</th>\n",
              "      <td>42.000000</td>\n",
              "      <td>42.000000</td>\n",
              "    </tr>\n",
              "    <tr>\n",
              "      <th>mean</th>\n",
              "      <td>1.109286</td>\n",
              "      <td>4.500000</td>\n",
              "    </tr>\n",
              "    <tr>\n",
              "      <th>std</th>\n",
              "      <td>0.197575</td>\n",
              "      <td>2.280565</td>\n",
              "    </tr>\n",
              "    <tr>\n",
              "      <th>min</th>\n",
              "      <td>0.950000</td>\n",
              "      <td>1.000000</td>\n",
              "    </tr>\n",
              "    <tr>\n",
              "      <th>25%</th>\n",
              "      <td>0.990000</td>\n",
              "      <td>2.625000</td>\n",
              "    </tr>\n",
              "    <tr>\n",
              "      <th>50%</th>\n",
              "      <td>0.990000</td>\n",
              "      <td>4.000000</td>\n",
              "    </tr>\n",
              "    <tr>\n",
              "      <th>75%</th>\n",
              "      <td>1.400000</td>\n",
              "      <td>6.375000</td>\n",
              "    </tr>\n",
              "    <tr>\n",
              "      <th>max</th>\n",
              "      <td>1.400000</td>\n",
              "      <td>9.000000</td>\n",
              "    </tr>\n",
              "  </tbody>\n",
              "</table>\n",
              "</div>"
            ],
            "text/plain": [
              "       Price (Euro)     Rating\n",
              "count     42.000000  42.000000\n",
              "mean       1.109286   4.500000\n",
              "std        0.197575   2.280565\n",
              "min        0.950000   1.000000\n",
              "25%        0.990000   2.625000\n",
              "50%        0.990000   4.000000\n",
              "75%        1.400000   6.375000\n",
              "max        1.400000   9.000000"
            ]
          },
          "metadata": {
            "tags": []
          },
          "execution_count": 7
        }
      ]
    },
    {
      "cell_type": "markdown",
      "metadata": {
        "id": "DrjkmmW2VXlt"
      },
      "source": [
        "Now that we have both of our samples, it will be a good idea to see whether we're dealing with a normal distribution of ratings in both datasets."
      ]
    },
    {
      "cell_type": "code",
      "metadata": {
        "id": "JvbTECrhFD2V",
        "colab": {
          "base_uri": "https://localhost:8080/",
          "height": 265
        },
        "outputId": "65c550b7-02df-4137-aeb1-44c5106817b7"
      },
      "source": [
        "rating_data['Rating'].plot(kind='density');"
      ],
      "execution_count": 8,
      "outputs": [
        {
          "output_type": "display_data",
          "data": {
            "image/png": "[encoded data removed]",
            "text/plain": [
              "<Figure size 432x288 with 1 Axes>"
            ]
          },
          "metadata": {
            "tags": [],
            "needs_background": "light"
          }
        }
      ]
    },
    {
      "cell_type": "code",
      "metadata": {
        "colab": {
          "base_uri": "https://localhost:8080/",
          "height": 265
        },
        "id": "_SKRp1KhIgOn",
        "outputId": "eb542e39-e217-4b97-f835-fa7d9249a6f8"
      },
      "source": [
        "rating_data[expensive_drinks]['Rating'].plot(kind='density');"
      ],
      "execution_count": 9,
      "outputs": [
        {
          "output_type": "display_data",
          "data": {
            "image/png": "[encoded data removed]",
            "text/plain": [
              "<Figure size 432x288 with 1 Axes>"
            ]
          },
          "metadata": {
            "tags": [],
            "needs_background": "light"
          }
        }
      ]
    },
    {
      "cell_type": "markdown",
      "metadata": {
        "id": "QNRUsnsaV_cb"
      },
      "source": [
        "While we can assure the normality of the data by creating a Q-Q plot and/or conducting an Anderson-Darling normality test, it can be concluded by the shape of the plots above that both distributions are approximately normal."
      ]
    },
    {
      "cell_type": "markdown",
      "metadata": {
        "id": "pIg8f1a4dRUL"
      },
      "source": [
        "We can then compare the mean of the ratings of all drinks and the mean of the expensive drink ratings."
      ]
    },
    {
      "cell_type": "code",
      "metadata": {
        "colab": {
          "base_uri": "https://localhost:8080/"
        },
        "id": "hrPPXWo5a4PS",
        "outputId": "edd813b0-162c-4625-afbb-002afa9847c9"
      },
      "source": [
        "# first value in the tuple is the mean rating of all drinks, second is the mean rating of expensive drinks\n",
        "rating_data['Rating'].describe()['mean'], rating_data[expensive_drinks]['Rating'].describe()['mean']"
      ],
      "execution_count": 10,
      "outputs": [
        {
          "output_type": "execute_result",
          "data": {
            "text/plain": [
              "(4.87531914893617, 4.5)"
            ]
          },
          "metadata": {
            "tags": []
          },
          "execution_count": 10
        }
      ]
    },
    {
      "cell_type": "markdown",
      "metadata": {
        "id": "CsN1BzxCd0FW"
      },
      "source": [
        "This result is already giving us a grim outlook on rejecting the null hypothesis. The average rating of expensive drinks in our sample is lower than the average rating of all drinks. While it is highly unlikely that this will give us a meaningful chance at rejecting the null hypothesis, we will still investigate.\n",
        "\n",
        "First, we need to preprocess the data for work with the statsmodels api."
      ]
    },
    {
      "cell_type": "code",
      "metadata": {
        "id": "PSNi9FLIV5Uw"
      },
      "source": [
        "d_all = sm.stats.DescrStatsW(rating_data['Rating'])\n",
        "d_expensive = sm.stats.DescrStatsW(rating_data[expensive_drinks]['Rating'])"
      ],
      "execution_count": 11,
      "outputs": []
    },
    {
      "cell_type": "markdown",
      "metadata": {
        "id": "vyGSyn6lehE-"
      },
      "source": [
        "Afterwards, we use the builtin function to compare the means as described in the HypothesisTesting notebook. It is important that the first argument passed is the sample we observe."
      ]
    },
    {
      "cell_type": "code",
      "metadata": {
        "id": "129EtZ52XdsI"
      },
      "source": [
        "cm = sm.stats.CompareMeans(d_expensive, d_all)"
      ],
      "execution_count": 12,
      "outputs": []
    },
    {
      "cell_type": "markdown",
      "metadata": {
        "id": "UcQbIKb5etyl"
      },
      "source": [
        "The ttest_ind function returns a tuple with three values. We are interested in the first two values. The first one is the t-test result, and the second one is its p-value."
      ]
    },
    {
      "cell_type": "code",
      "metadata": {
        "colab": {
          "base_uri": "https://localhost:8080/"
        },
        "id": "rRlnjplGXheZ",
        "outputId": "fba4e4d9-b37d-492e-ffeb-f53c35ccb4ff"
      },
      "source": [
        "cm.ttest_ind(alternative='bigger')[:2]"
      ],
      "execution_count": 15,
      "outputs": [
        {
          "output_type": "execute_result",
          "data": {
            "text/plain": [
              "(-0.9302778110242099, 0.17673316778380038)"
            ]
          },
          "metadata": {
            "tags": []
          },
          "execution_count": 15
        }
      ]
    },
    {
      "cell_type": "markdown",
      "metadata": {
        "id": "S-PdCTBtfdUl"
      },
      "source": [
        "From the p-value, which is 0.82 (the odds of the achieved result occuring given the null hypothesis were true), we can not reject the null hypothesis. However, this is an expected result, since the expensive drinks mean was lower than the mean for all drinks."
      ]
    },
    {
      "cell_type": "markdown",
      "metadata": {
        "id": "tRSGTAuI5BYP"
      },
      "source": [
        "Let us then try the opposite theory:\n",
        ">More expensive energy drinks taste worse.\n",
        "\n",
        "$$𝐻_0:\\mu_{expensive}=\\mu_{all}$$\n",
        "\n",
        "$$𝐻_𝑎:\\mu_{expensive}<\\mu_{all}$$ \n",
        "\n",
        "We use the already generated piece of code, the only thing that needs to be changed is the function that calculates our p-value. Instead of looking for an alternative hypothesis that is larger than the null, we are looking for a one that is smaller."
      ]
    },
    {
      "cell_type": "code",
      "metadata": {
        "colab": {
          "base_uri": "https://localhost:8080/"
        },
        "id": "eJgWNdiz4_Zo",
        "outputId": "022801b3-f53e-4546-f69c-88c38d2ab71e"
      },
      "source": [
        "cm.ttest_ind(alternative='smaller')[:2]"
      ],
      "execution_count": 16,
      "outputs": [
        {
          "output_type": "execute_result",
          "data": {
            "text/plain": [
              "(-0.9302778110242099, 0.17673316778380038)"
            ]
          },
          "metadata": {
            "tags": []
          },
          "execution_count": 16
        }
      ]
    },
    {
      "cell_type": "markdown",
      "metadata": {
        "id": "IXJzuxvp5tGe"
      },
      "source": [
        "Here, the p-value of the result is 0.18, which is still way too high to reject the null hypothesis. Thus, we have not reached a statistically valid conclusion."
      ]
    }
  ]
}