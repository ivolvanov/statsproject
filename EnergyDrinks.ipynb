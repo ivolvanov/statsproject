{
  "nbformat": 4,
  "nbformat_minor": 0,
  "metadata": {
    "colab": {
      "name": "Copy of EnergyDrinks.ipynb",
      "provenance": [],
      "collapsed_sections": [],
      "toc_visible": true
    },
    "kernelspec": {
      "name": "python3",
      "display_name": "Python 3",
      "language": "python"
    }
  },
  "cells": [
    {
      "cell_type": "markdown",
      "metadata": {
        "id": "qsvH6b2gNtel"
      },
      "source": [
        "# **Research Project**\n",
        "#### _Group 6 - Razvan Simion, Ivaylo Ivanov_\n",
        "\n",
        "\t\t\n",
        "\n",
        "\n",
        "\n"
      ]
    },
    {
      "cell_type": "markdown",
      "metadata": {
        "id": "o8Rh4Dfqjwh9"
      },
      "source": [
        "#### Project assignment\n",
        "\n",
        "The goal of this assignment is to design and execute statistical study to investigate if more expensive energy drinks taste better. To achieve that, data will be gather from a sample of ICT students, some of which regularly consume energy drinks and some do not."
      ]
    },
    {
      "cell_type": "markdown",
      "metadata": {
        "id": "LMfCrQb4kroI"
      },
      "source": [
        "#### Collecting the data\n",
        "Collecting data about taste preferences is extremely subjective. To limit as many of the unknowns as possible, we have purchased as many different drinks as possible from all price ranges. The taste test was conducted with a double blind, where neither the participant nor the test conductor knew what drink was consumed.\n",
        "\n",
        "The drinks were placed in non-transparent plastic cups, each labeled with a number. The participants were asked to try each of the drinks and give them a rating on the scale from 1 to 10. Non-integer ratings were also an option. The results were then matched with the according drinks and their prices."
      ]
    },
    {
      "cell_type": "markdown",
      "metadata": {
        "id": "-yHaepmGmPHF"
      },
      "source": [
        "#### Analyzing the data\n",
        "We will be working with the gathered data in this notebook. We will analyze it, trying to spot trends and relationships. We will form a hypothesis and determine whether our findngs are statistically significant to the extent that the original hypothesis can be rejected and ours - suggested."
      ]
    },
    {
      "cell_type": "markdown",
      "metadata": {
        "id": "wZlu5as3raAc"
      },
      "source": [
        "#### Importing the Libraries"
      ]
    },
    {
      "cell_type": "code",
      "metadata": {
        "id": "vCP6__4trhxi",
        "colab": {
          "base_uri": "https://localhost:8080/"
        },
        "outputId": "5e860ef0-2997-439e-ce43-166a20d2be56"
      },
      "source": [
        "import numpy as np\n",
        "import pandas as pd\n",
        "from matplotlib import pyplot as plt\n",
        "import statsmodels.api as sm;"
      ],
      "execution_count": 1,
      "outputs": []
    },
    {
      "cell_type": "markdown",
      "metadata": {
        "id": "O3_CTBa6r-w6"
      },
      "source": [
        "#### Getting the Data"
      ]
    },
    {
      "cell_type": "code",
      "metadata": {
        "id": "ufcutY7WsBnc"
      },
      "source": [
        "# load data\n",
        "file_ratings = './rating_price_data.csv'\n",
        "rating_data = pd.read_csv(file_ratings)"
      ],
      "execution_count": 2,
      "outputs": [
        {
          "output_type": "error",
          "ename": "FileNotFoundError",
          "evalue": "[Errno 2] No such file or directory: '/rating_price_data.csv'",
          "traceback": [
            "\u001b[0;31m---------------------------------------------------------------------------\u001b[0m",
            "\u001b[0;31mFileNotFoundError\u001b[0m                         Traceback (most recent call last)",
            "\u001b[0;32m<ipython-input-2-63eb24dffff3>\u001b[0m in \u001b[0;36m<module>\u001b[0;34m\u001b[0m\n\u001b[1;32m      1\u001b[0m \u001b[0;31m# load data\u001b[0m\u001b[0;34m\u001b[0m\u001b[0;34m\u001b[0m\u001b[0;34m\u001b[0m\u001b[0m\n\u001b[1;32m      2\u001b[0m \u001b[0mfile_ratings\u001b[0m \u001b[0;34m=\u001b[0m \u001b[0;34m'/rating_price_data.csv'\u001b[0m\u001b[0;34m\u001b[0m\u001b[0;34m\u001b[0m\u001b[0m\n\u001b[0;32m----> 3\u001b[0;31m \u001b[0mrating_data\u001b[0m \u001b[0;34m=\u001b[0m \u001b[0mpd\u001b[0m\u001b[0;34m.\u001b[0m\u001b[0mread_csv\u001b[0m\u001b[0;34m(\u001b[0m\u001b[0mfile_ratings\u001b[0m\u001b[0;34m)\u001b[0m\u001b[0;34m\u001b[0m\u001b[0;34m\u001b[0m\u001b[0m\n\u001b[0m",
            "\u001b[0;32m~/.local/lib/python3.8/site-packages/pandas/io/parsers.py\u001b[0m in \u001b[0;36mread_csv\u001b[0;34m(filepath_or_buffer, sep, delimiter, header, names, index_col, usecols, squeeze, prefix, mangle_dupe_cols, dtype, engine, converters, true_values, false_values, skipinitialspace, skiprows, skipfooter, nrows, na_values, keep_default_na, na_filter, verbose, skip_blank_lines, parse_dates, infer_datetime_format, keep_date_col, date_parser, dayfirst, cache_dates, iterator, chunksize, compression, thousands, decimal, lineterminator, quotechar, quoting, doublequote, escapechar, comment, encoding, dialect, error_bad_lines, warn_bad_lines, delim_whitespace, low_memory, memory_map, float_precision, storage_options)\u001b[0m\n\u001b[1;32m    608\u001b[0m     \u001b[0mkwds\u001b[0m\u001b[0;34m.\u001b[0m\u001b[0mupdate\u001b[0m\u001b[0;34m(\u001b[0m\u001b[0mkwds_defaults\u001b[0m\u001b[0;34m)\u001b[0m\u001b[0;34m\u001b[0m\u001b[0;34m\u001b[0m\u001b[0m\n\u001b[1;32m    609\u001b[0m \u001b[0;34m\u001b[0m\u001b[0m\n\u001b[0;32m--> 610\u001b[0;31m     \u001b[0;32mreturn\u001b[0m \u001b[0m_read\u001b[0m\u001b[0;34m(\u001b[0m\u001b[0mfilepath_or_buffer\u001b[0m\u001b[0;34m,\u001b[0m \u001b[0mkwds\u001b[0m\u001b[0;34m)\u001b[0m\u001b[0;34m\u001b[0m\u001b[0;34m\u001b[0m\u001b[0m\n\u001b[0m\u001b[1;32m    611\u001b[0m \u001b[0;34m\u001b[0m\u001b[0m\n\u001b[1;32m    612\u001b[0m \u001b[0;34m\u001b[0m\u001b[0m\n",
            "\u001b[0;32m~/.local/lib/python3.8/site-packages/pandas/io/parsers.py\u001b[0m in \u001b[0;36m_read\u001b[0;34m(filepath_or_buffer, kwds)\u001b[0m\n\u001b[1;32m    460\u001b[0m \u001b[0;34m\u001b[0m\u001b[0m\n\u001b[1;32m    461\u001b[0m     \u001b[0;31m# Create the parser.\u001b[0m\u001b[0;34m\u001b[0m\u001b[0;34m\u001b[0m\u001b[0;34m\u001b[0m\u001b[0m\n\u001b[0;32m--> 462\u001b[0;31m     \u001b[0mparser\u001b[0m \u001b[0;34m=\u001b[0m \u001b[0mTextFileReader\u001b[0m\u001b[0;34m(\u001b[0m\u001b[0mfilepath_or_buffer\u001b[0m\u001b[0;34m,\u001b[0m \u001b[0;34m**\u001b[0m\u001b[0mkwds\u001b[0m\u001b[0;34m)\u001b[0m\u001b[0;34m\u001b[0m\u001b[0;34m\u001b[0m\u001b[0m\n\u001b[0m\u001b[1;32m    463\u001b[0m \u001b[0;34m\u001b[0m\u001b[0m\n\u001b[1;32m    464\u001b[0m     \u001b[0;32mif\u001b[0m \u001b[0mchunksize\u001b[0m \u001b[0;32mor\u001b[0m \u001b[0miterator\u001b[0m\u001b[0;34m:\u001b[0m\u001b[0;34m\u001b[0m\u001b[0;34m\u001b[0m\u001b[0m\n",
            "\u001b[0;32m~/.local/lib/python3.8/site-packages/pandas/io/parsers.py\u001b[0m in \u001b[0;36m__init__\u001b[0;34m(self, f, engine, **kwds)\u001b[0m\n\u001b[1;32m    817\u001b[0m             \u001b[0mself\u001b[0m\u001b[0;34m.\u001b[0m\u001b[0moptions\u001b[0m\u001b[0;34m[\u001b[0m\u001b[0;34m\"has_index_names\"\u001b[0m\u001b[0;34m]\u001b[0m \u001b[0;34m=\u001b[0m \u001b[0mkwds\u001b[0m\u001b[0;34m[\u001b[0m\u001b[0;34m\"has_index_names\"\u001b[0m\u001b[0;34m]\u001b[0m\u001b[0;34m\u001b[0m\u001b[0;34m\u001b[0m\u001b[0m\n\u001b[1;32m    818\u001b[0m \u001b[0;34m\u001b[0m\u001b[0m\n\u001b[0;32m--> 819\u001b[0;31m         \u001b[0mself\u001b[0m\u001b[0;34m.\u001b[0m\u001b[0m_engine\u001b[0m \u001b[0;34m=\u001b[0m \u001b[0mself\u001b[0m\u001b[0;34m.\u001b[0m\u001b[0m_make_engine\u001b[0m\u001b[0;34m(\u001b[0m\u001b[0mself\u001b[0m\u001b[0;34m.\u001b[0m\u001b[0mengine\u001b[0m\u001b[0;34m)\u001b[0m\u001b[0;34m\u001b[0m\u001b[0;34m\u001b[0m\u001b[0m\n\u001b[0m\u001b[1;32m    820\u001b[0m \u001b[0;34m\u001b[0m\u001b[0m\n\u001b[1;32m    821\u001b[0m     \u001b[0;32mdef\u001b[0m \u001b[0mclose\u001b[0m\u001b[0;34m(\u001b[0m\u001b[0mself\u001b[0m\u001b[0;34m)\u001b[0m\u001b[0;34m:\u001b[0m\u001b[0;34m\u001b[0m\u001b[0;34m\u001b[0m\u001b[0m\n",
            "\u001b[0;32m~/.local/lib/python3.8/site-packages/pandas/io/parsers.py\u001b[0m in \u001b[0;36m_make_engine\u001b[0;34m(self, engine)\u001b[0m\n\u001b[1;32m   1048\u001b[0m             )\n\u001b[1;32m   1049\u001b[0m         \u001b[0;31m# error: Too many arguments for \"ParserBase\"\u001b[0m\u001b[0;34m\u001b[0m\u001b[0;34m\u001b[0m\u001b[0;34m\u001b[0m\u001b[0m\n\u001b[0;32m-> 1050\u001b[0;31m         \u001b[0;32mreturn\u001b[0m \u001b[0mmapping\u001b[0m\u001b[0;34m[\u001b[0m\u001b[0mengine\u001b[0m\u001b[0;34m]\u001b[0m\u001b[0;34m(\u001b[0m\u001b[0mself\u001b[0m\u001b[0;34m.\u001b[0m\u001b[0mf\u001b[0m\u001b[0;34m,\u001b[0m \u001b[0;34m**\u001b[0m\u001b[0mself\u001b[0m\u001b[0;34m.\u001b[0m\u001b[0moptions\u001b[0m\u001b[0;34m)\u001b[0m  \u001b[0;31m# type: ignore[call-arg]\u001b[0m\u001b[0;34m\u001b[0m\u001b[0;34m\u001b[0m\u001b[0m\n\u001b[0m\u001b[1;32m   1051\u001b[0m \u001b[0;34m\u001b[0m\u001b[0m\n\u001b[1;32m   1052\u001b[0m     \u001b[0;32mdef\u001b[0m \u001b[0m_failover_to_python\u001b[0m\u001b[0;34m(\u001b[0m\u001b[0mself\u001b[0m\u001b[0;34m)\u001b[0m\u001b[0;34m:\u001b[0m\u001b[0;34m\u001b[0m\u001b[0;34m\u001b[0m\u001b[0m\n",
            "\u001b[0;32m~/.local/lib/python3.8/site-packages/pandas/io/parsers.py\u001b[0m in \u001b[0;36m__init__\u001b[0;34m(self, src, **kwds)\u001b[0m\n\u001b[1;32m   1865\u001b[0m \u001b[0;34m\u001b[0m\u001b[0m\n\u001b[1;32m   1866\u001b[0m         \u001b[0;31m# open handles\u001b[0m\u001b[0;34m\u001b[0m\u001b[0;34m\u001b[0m\u001b[0;34m\u001b[0m\u001b[0m\n\u001b[0;32m-> 1867\u001b[0;31m         \u001b[0mself\u001b[0m\u001b[0;34m.\u001b[0m\u001b[0m_open_handles\u001b[0m\u001b[0;34m(\u001b[0m\u001b[0msrc\u001b[0m\u001b[0;34m,\u001b[0m \u001b[0mkwds\u001b[0m\u001b[0;34m)\u001b[0m\u001b[0;34m\u001b[0m\u001b[0;34m\u001b[0m\u001b[0m\n\u001b[0m\u001b[1;32m   1868\u001b[0m         \u001b[0;32massert\u001b[0m \u001b[0mself\u001b[0m\u001b[0;34m.\u001b[0m\u001b[0mhandles\u001b[0m \u001b[0;32mis\u001b[0m \u001b[0;32mnot\u001b[0m \u001b[0;32mNone\u001b[0m\u001b[0;34m\u001b[0m\u001b[0;34m\u001b[0m\u001b[0m\n\u001b[1;32m   1869\u001b[0m         \u001b[0;32mfor\u001b[0m \u001b[0mkey\u001b[0m \u001b[0;32min\u001b[0m \u001b[0;34m(\u001b[0m\u001b[0;34m\"storage_options\"\u001b[0m\u001b[0;34m,\u001b[0m \u001b[0;34m\"encoding\"\u001b[0m\u001b[0;34m,\u001b[0m \u001b[0;34m\"memory_map\"\u001b[0m\u001b[0;34m,\u001b[0m \u001b[0;34m\"compression\"\u001b[0m\u001b[0;34m)\u001b[0m\u001b[0;34m:\u001b[0m\u001b[0;34m\u001b[0m\u001b[0;34m\u001b[0m\u001b[0m\n",
            "\u001b[0;32m~/.local/lib/python3.8/site-packages/pandas/io/parsers.py\u001b[0m in \u001b[0;36m_open_handles\u001b[0;34m(self, src, kwds)\u001b[0m\n\u001b[1;32m   1360\u001b[0m         \u001b[0mLet\u001b[0m \u001b[0mthe\u001b[0m \u001b[0mreaders\u001b[0m \u001b[0mopen\u001b[0m \u001b[0mIOHanldes\u001b[0m \u001b[0mafter\u001b[0m \u001b[0mthey\u001b[0m \u001b[0mare\u001b[0m \u001b[0mdone\u001b[0m \u001b[0;32mwith\u001b[0m \u001b[0mtheir\u001b[0m \u001b[0mpotential\u001b[0m \u001b[0mraises\u001b[0m\u001b[0;34m.\u001b[0m\u001b[0;34m\u001b[0m\u001b[0;34m\u001b[0m\u001b[0m\n\u001b[1;32m   1361\u001b[0m         \"\"\"\n\u001b[0;32m-> 1362\u001b[0;31m         self.handles = get_handle(\n\u001b[0m\u001b[1;32m   1363\u001b[0m             \u001b[0msrc\u001b[0m\u001b[0;34m,\u001b[0m\u001b[0;34m\u001b[0m\u001b[0;34m\u001b[0m\u001b[0m\n\u001b[1;32m   1364\u001b[0m             \u001b[0;34m\"r\"\u001b[0m\u001b[0;34m,\u001b[0m\u001b[0;34m\u001b[0m\u001b[0;34m\u001b[0m\u001b[0m\n",
            "\u001b[0;32m~/.local/lib/python3.8/site-packages/pandas/io/common.py\u001b[0m in \u001b[0;36mget_handle\u001b[0;34m(path_or_buf, mode, encoding, compression, memory_map, is_text, errors, storage_options)\u001b[0m\n\u001b[1;32m    640\u001b[0m                 \u001b[0merrors\u001b[0m \u001b[0;34m=\u001b[0m \u001b[0;34m\"replace\"\u001b[0m\u001b[0;34m\u001b[0m\u001b[0;34m\u001b[0m\u001b[0m\n\u001b[1;32m    641\u001b[0m             \u001b[0;31m# Encoding\u001b[0m\u001b[0;34m\u001b[0m\u001b[0;34m\u001b[0m\u001b[0;34m\u001b[0m\u001b[0m\n\u001b[0;32m--> 642\u001b[0;31m             handle = open(\n\u001b[0m\u001b[1;32m    643\u001b[0m                 \u001b[0mhandle\u001b[0m\u001b[0;34m,\u001b[0m\u001b[0;34m\u001b[0m\u001b[0;34m\u001b[0m\u001b[0m\n\u001b[1;32m    644\u001b[0m                 \u001b[0mioargs\u001b[0m\u001b[0;34m.\u001b[0m\u001b[0mmode\u001b[0m\u001b[0;34m,\u001b[0m\u001b[0;34m\u001b[0m\u001b[0;34m\u001b[0m\u001b[0m\n",
            "\u001b[0;31mFileNotFoundError\u001b[0m: [Errno 2] No such file or directory: '/rating_price_data.csv'"
          ]
        }
      ]
    },
    {
      "cell_type": "markdown",
      "metadata": {
        "id": "2Kxz_XMrt89d"
      },
      "source": [
        "#### List the Data"
      ]
    },
    {
      "cell_type": "code",
      "metadata": {
        "colab": {
          "base_uri": "https://localhost:8080/",
          "height": 419
        },
        "id": "OR1z-KpmuAPZ",
        "outputId": "949a4287-d7cd-4792-b916-b6c0bad17662"
      },
      "source": [
        "rating_data"
      ],
      "execution_count": null,
      "outputs": []
    },
    {
      "cell_type": "markdown",
      "metadata": {
        "id": "2wxVGD4pg2vH"
      },
      "source": [
        "###Our next goal is to visualize the data by making usage of a bar chart\r\n",
        "\r\n",
        "**In order to make a visualisation of the average rating per price from the current data we need to follow some steps:**"
      ]
    },
    {
      "cell_type": "markdown",
      "metadata": {
        "id": "fN3hyWb9h9pI"
      },
      "source": [
        "Step 1: we create a so-called GroupBy object from the data frame, using the function groupby() with the column 'Price (Euro)' to group by as argument."
      ]
    },
    {
      "cell_type": "code",
      "metadata": {
        "id": "NcdJVKT_ipC6"
      },
      "source": [
        "prices_grouped = rating_data.groupby('Price (Euro)')"
      ],
      "execution_count": null,
      "outputs": []
    },
    {
      "cell_type": "markdown",
      "metadata": {
        "id": "zUPlLSs4jltm"
      },
      "source": [
        "Step 2: get the average mean for each of the prices from the variable 'prices_grouped' created above."
      ]
    },
    {
      "cell_type": "code",
      "metadata": {
        "colab": {
          "base_uri": "https://localhost:8080/"
        },
        "id": "5E1--CUQjvTU",
        "outputId": "f8e77dc2-32ac-459b-cd3f-d7bf8c3374f5"
      },
      "source": [
        "prices_mean = prices_grouped['Rating'].mean()\r\n",
        "prices_mean"
      ],
      "execution_count": null,
      "outputs": []
    },
    {
      "cell_type": "markdown",
      "metadata": {
        "id": "grwbYcaEkNER"
      },
      "source": [
        "Step 3: visualize the data"
      ]
    },
    {
      "cell_type": "code",
      "metadata": {
        "colab": {
          "base_uri": "https://localhost:8080/",
          "height": 292
        },
        "id": "nZGr0T-CkQAz",
        "outputId": "52edcdac-66f3-4aae-b240-98598e0b3893"
      },
      "source": [
        "prices_mean.plot(kind='bar');"
      ],
      "execution_count": null,
      "outputs": []
    },
    {
      "cell_type": "markdown",
      "metadata": {
        "id": "gbARdhXkJNzG"
      },
      "source": [
        "## Hypothesis testing\n",
        "\n",
        "The first step in the research is to define a quantative quesion:\n",
        "> Do more expensive energy drinks receive a higher taste rating from ICT students?\n",
        "\n",
        "Now that we have defined the question that we want to answer, we need to form a hypothesis. Since we will be looking at mean ratings for drinks at different price points, we are interested in the difference of means.\n",
        "\n",
        "It can be assumed that drink price and taste rating are not related, so more expensive drinks do not taste better. Alternatively, we could suggest that more expensive drinks do indeed taste better. To formally formulate our hypothesis:\n",
        "\n",
        "$$𝐻_0:\\mu_{expensive}=\\mu_{all}$$\n",
        "\n",
        "$$𝐻_𝑎:\\mu_{expensive}>\\mu_{all}$$ "
      ]
    },
    {
      "cell_type": "markdown",
      "metadata": {
        "id": "nVoHZkrTRMph"
      },
      "source": [
        "First, we need to define what are expensive drinks. We tested 16 different drinks, some of which had the same price. Arbitrarily, we will choose the 4 most expensive drinks to represent the expensive drinks sample. They have the prices 1.4, 0.99, 0.99 and 0.95.\n",
        "\n",
        "We will create a dataset to contain the sample of our expensive drinks. This is done using a boolean mask for drinks that cost more than 0.94."
      ]
    },
    {
      "cell_type": "code",
      "metadata": {
        "colab": {
          "base_uri": "https://localhost:8080/",
          "height": 297
        },
        "id": "biTHCgrvThNS",
        "outputId": "a8d984bb-c914-41f4-ef4c-2ac0ff8ef80f"
      },
      "source": [
        "expensive_drinks = rating_data['Price (Euro)'] > 0.94\n",
        "rating_data[expensive_drinks].describe()"
      ],
      "execution_count": null,
      "outputs": []
    },
    {
      "cell_type": "markdown",
      "metadata": {
        "id": "DrjkmmW2VXlt"
      },
      "source": [
        "Now that we have both of our samples, it will be a good idea to see whether we're dealing with a normal distribution of ratings in both datasets."
      ]
    },
    {
      "cell_type": "code",
      "metadata": {
        "id": "JvbTECrhFD2V",
        "colab": {
          "base_uri": "https://localhost:8080/",
          "height": 265
        },
        "outputId": "65c550b7-02df-4137-aeb1-44c5106817b7"
      },
      "source": [
        "rating_data['Rating'].plot(kind='density');"
      ],
      "execution_count": null,
      "outputs": []
    },
    {
      "cell_type": "code",
      "metadata": {
        "colab": {
          "base_uri": "https://localhost:8080/",
          "height": 265
        },
        "id": "_SKRp1KhIgOn",
        "outputId": "eb542e39-e217-4b97-f835-fa7d9249a6f8"
      },
      "source": [
        "rating_data[expensive_drinks]['Rating'].plot(kind='density');"
      ],
      "execution_count": null,
      "outputs": []
    },
    {
      "cell_type": "markdown",
      "metadata": {
        "id": "QNRUsnsaV_cb"
      },
      "source": [
        "While we can assure the normality of the data by creating a Q-Q plot and/or conducting an Anderson-Darling normality test, it can be concluded by the shape of the plots above that both distributions are approximately normal."
      ]
    },
    {
      "cell_type": "markdown",
      "metadata": {
        "id": "pIg8f1a4dRUL"
      },
      "source": [
        "We can then compare the mean of the ratings of all drinks and the mean of the expensive drink ratings."
      ]
    },
    {
      "cell_type": "code",
      "metadata": {
        "colab": {
          "base_uri": "https://localhost:8080/"
        },
        "id": "hrPPXWo5a4PS",
        "outputId": "edd813b0-162c-4625-afbb-002afa9847c9"
      },
      "source": [
        "# first value in the tuple is the mean rating of all drinks, second is the mean rating of expensive drinks\n",
        "rating_data['Rating'].describe()['mean'], rating_data[expensive_drinks]['Rating'].describe()['mean']"
      ],
      "execution_count": null,
      "outputs": []
    },
    {
      "cell_type": "markdown",
      "metadata": {
        "id": "CsN1BzxCd0FW"
      },
      "source": [
        "This result is already giving us a grim outlook on rejecting the null hypothesis. The average rating of expensive drinks in our sample is lower than the average rating of all drinks. While it is highly unlikely that this will give us a meaningful chance at rejecting the null hypothesis, we will still investigate.\n",
        "\n",
        "First, we need to preprocess the data for work with the statsmodels api."
      ]
    },
    {
      "cell_type": "code",
      "metadata": {
        "id": "PSNi9FLIV5Uw"
      },
      "source": [
        "d_all = sm.stats.DescrStatsW(rating_data['Rating'])\n",
        "d_expensive = sm.stats.DescrStatsW(rating_data[expensive_drinks]['Rating'])"
      ],
      "execution_count": null,
      "outputs": []
    },
    {
      "cell_type": "markdown",
      "metadata": {
        "id": "vyGSyn6lehE-"
      },
      "source": [
        "Afterwards, we use the builtin function to compare the means as described in the HypothesisTesting notebook. It is important that the first argument passed is the sample we observe."
      ]
    },
    {
      "cell_type": "code",
      "metadata": {
        "id": "129EtZ52XdsI"
      },
      "source": [
        "cm = sm.stats.CompareMeans(d_expensive, d_all)"
      ],
      "execution_count": null,
      "outputs": []
    },
    {
      "cell_type": "markdown",
      "metadata": {
        "id": "UcQbIKb5etyl"
      },
      "source": [
        "The ttest_ind function returns a tuple with three values. We are interested in the first two values. The first one is the t-test result, and the second one is its p-value."
      ]
    },
    {
      "cell_type": "code",
      "metadata": {
        "colab": {
          "base_uri": "https://localhost:8080/"
        },
        "id": "rRlnjplGXheZ",
        "outputId": "fba4e4d9-b37d-492e-ffeb-f53c35ccb4ff"
      },
      "source": [
        "cm.ttest_ind(alternative='larger')[:2]"
      ],
      "execution_count": null,
      "outputs": []
    },
    {
      "cell_type": "markdown",
      "metadata": {
        "id": "S-PdCTBtfdUl"
      },
      "source": [
        "From the p-value, which is 0.82 (the odds of the achieved result occuring given the null hypothesis were true), we can not reject the null hypothesis. However, this is an expected result, since the expensive drinks mean was lower than the mean for all drinks."
      ]
    },
    {
      "cell_type": "markdown",
      "metadata": {
        "id": "tRSGTAuI5BYP"
      },
      "source": [
        "Let us then try the opposite theory:\n",
        ">More expensive energy drinks taste worse.\n",
        "\n",
        "$$𝐻_0:\\mu_{expensive}=\\mu_{all}$$\n",
        "\n",
        "$$𝐻_𝑎:\\mu_{expensive}<\\mu_{all}$$ \n",
        "\n",
        "We use the already generated piece of code, the only thing that needs to be changed is the function that calculates our p-value. Instead of looking for an alternative hypothesis that is larger than the null, we are looking for a one that is smaller."
      ]
    },
    {
      "cell_type": "code",
      "metadata": {
        "colab": {
          "base_uri": "https://localhost:8080/"
        },
        "id": "eJgWNdiz4_Zo",
        "outputId": "022801b3-f53e-4546-f69c-88c38d2ab71e"
      },
      "source": [
        "cm.ttest_ind(alternative='smaller')[:2]"
      ],
      "execution_count": null,
      "outputs": []
    },
    {
      "cell_type": "markdown",
      "metadata": {
        "id": "IXJzuxvp5tGe"
      },
      "source": [
        "Here, the p-value of the result is 0.18, which is still way too high to reject the null hypothesis. Thus, we have not reached a statistically valid conclusion."
      ]
    }
  ]
}